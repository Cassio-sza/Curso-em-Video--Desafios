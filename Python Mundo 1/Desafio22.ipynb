{
 "cells": [
  {
   "cell_type": "markdown",
   "metadata": {},
   "source": [
    "Crie um programa que leia o nome completo de uma pessoa e mostre:\n",
    "\n",
    "    - O nome com todas as letras maiúsculas\n",
    "    - O nome com todas minúsculas\n",
    "    - Quantas letras ao todo (sem considerar espaços)\n",
    "    - Quantas letras tem o primeiro nome"
   ]
  }
 ],
 "metadata": {
  "language_info": {
   "name": "python"
  }
 },
 "nbformat": 4,
 "nbformat_minor": 2
}
