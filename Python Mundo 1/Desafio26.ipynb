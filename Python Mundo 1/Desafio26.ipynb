{
 "cells": [
  {
   "cell_type": "markdown",
   "metadata": {},
   "source": [
    "Faça um programa que leia uma frase pelo teclado e mostre:\n",
    "\n",
    "    - Quantas vezes aparece a letra \"A\"\n",
    "    - Em que posição ela aparece a primeira vez\n",
    "    - Em que posição ela aparece a última vez"
   ]
  }
 ],
 "metadata": {
  "language_info": {
   "name": "python"
  }
 },
 "nbformat": 4,
 "nbformat_minor": 2
}
