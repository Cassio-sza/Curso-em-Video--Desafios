{
 "cells": [
  {
   "cell_type": "markdown",
   "metadata": {},
   "source": [
    " Crie um programa que leia o nome de uma cidade e diga se ela começa ou não com o nome \"SANTO\"."
   ]
  }
 ],
 "metadata": {
  "language_info": {
   "name": "python"
  }
 },
 "nbformat": 4,
 "nbformat_minor": 2
}
