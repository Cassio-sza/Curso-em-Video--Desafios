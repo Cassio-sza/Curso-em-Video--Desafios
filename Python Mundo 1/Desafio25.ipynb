{
 "cells": [
  {
   "cell_type": "markdown",
   "metadata": {},
   "source": [
    "Crie um programa que leia o nome de uma pessoa e diga se ela tem \"SILVA\" no nome"
   ]
  }
 ],
 "metadata": {
  "language_info": {
   "name": "python"
  }
 },
 "nbformat": 4,
 "nbformat_minor": 2
}
