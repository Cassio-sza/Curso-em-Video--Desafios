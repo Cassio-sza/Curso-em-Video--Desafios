{
 "cells": [
  {
   "cell_type": "markdown",
   "metadata": {},
   "source": [
    "Faça um programa que leia um número de 0 a 9999 e mostre na tela cada um dos digitos separados.\n",
    "\n",
    " * Ex:\n",
    "\n",
    "Digite um numero: `1834`\n",
    "\n",
    "    unidade: 4\n",
    "\n",
    "    dezena: 3\n",
    "\n",
    "    centena: 8\n",
    "\n",
    "    milhar: 1\n"
   ]
  }
 ],
 "metadata": {
  "language_info": {
   "name": "python"
  }
 },
 "nbformat": 4,
 "nbformat_minor": 2
}
